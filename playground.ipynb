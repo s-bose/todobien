{
 "cells": [
  {
   "cell_type": "code",
   "execution_count": 2,
   "metadata": {},
   "outputs": [],
   "source": [
    "import questionary"
   ]
  },
  {
   "cell_type": "code",
   "execution_count": 6,
   "metadata": {},
   "outputs": [
    {
     "name": "stderr",
     "output_type": "stream",
     "text": [
      "Warning: Input is not a terminal (fd=0).\n"
     ]
    },
    {
     "ename": "TypeError",
     "evalue": "object of type 'int' has no len()",
     "output_type": "error",
     "traceback": [
      "\u001b[0;31m---------------------------------------------------------------------------\u001b[0m",
      "\u001b[0;31mTypeError\u001b[0m                                 Traceback (most recent call last)",
      "Cell \u001b[0;32mIn[6], line 3\u001b[0m\n\u001b[1;32m      1\u001b[0m form \u001b[39m=\u001b[39m questionary\u001b[39m.\u001b[39mform(\n\u001b[1;32m      2\u001b[0m     name\u001b[39m=\u001b[39mquestionary\u001b[39m.\u001b[39mtext(\u001b[39m\"\u001b[39m\u001b[39mname?\u001b[39m\u001b[39m\"\u001b[39m, default\u001b[39m=\u001b[39m\u001b[39m\"\u001b[39m\u001b[39m\"\u001b[39m),\n\u001b[0;32m----> 3\u001b[0m     age\u001b[39m=\u001b[39mquestionary\u001b[39m.\u001b[39;49mtext(\u001b[39m\"\u001b[39;49m\u001b[39mage?\u001b[39;49m\u001b[39m\"\u001b[39;49m, default\u001b[39m=\u001b[39;49m\u001b[39m12\u001b[39;49m),\n\u001b[1;32m      4\u001b[0m     dob\u001b[39m=\u001b[39mquestionary\u001b[39m.\u001b[39mtext(\u001b[39m\"\u001b[39m\u001b[39mdob?\u001b[39m\u001b[39m\"\u001b[39m, default\u001b[39m=\u001b[39m\u001b[39m\"\u001b[39m\u001b[39m2023-08-31\u001b[39m\u001b[39m\"\u001b[39m)\n\u001b[1;32m      5\u001b[0m )\n\u001b[1;32m      7\u001b[0m form\u001b[39m.\u001b[39mask()\n",
      "File \u001b[0;32m~/Projects/todobien/venv/lib/python3.11/site-packages/questionary/prompts/text.py:98\u001b[0m, in \u001b[0;36mtext\u001b[0;34m(message, default, validate, qmark, style, multiline, instruction, lexer, **kwargs)\u001b[0m\n\u001b[1;32m     88\u001b[0m     \u001b[39mreturn\u001b[39;00m result\n\u001b[1;32m     90\u001b[0m p \u001b[39m=\u001b[39m PromptSession(\n\u001b[1;32m     91\u001b[0m     get_prompt_tokens,\n\u001b[1;32m     92\u001b[0m     style\u001b[39m=\u001b[39mmerged_style,\n\u001b[0;32m   (...)\u001b[0m\n\u001b[1;32m     96\u001b[0m     \u001b[39m*\u001b[39m\u001b[39m*\u001b[39mkwargs,\n\u001b[1;32m     97\u001b[0m )\n\u001b[0;32m---> 98\u001b[0m p\u001b[39m.\u001b[39mdefault_buffer\u001b[39m.\u001b[39mreset(Document(default))\n\u001b[1;32m    100\u001b[0m \u001b[39mreturn\u001b[39;00m Question(p\u001b[39m.\u001b[39mapp)\n",
      "File \u001b[0;32m~/Projects/todobien/venv/lib/python3.11/site-packages/prompt_toolkit/document.py:117\u001b[0m, in \u001b[0;36mDocument.__init__\u001b[0;34m(self, text, cursor_position, selection)\u001b[0m\n\u001b[1;32m    113\u001b[0m \u001b[39m# By default, if no cursor position was given, make sure to put the\u001b[39;00m\n\u001b[1;32m    114\u001b[0m \u001b[39m# cursor position is at the end of the document. This is what makes\u001b[39;00m\n\u001b[1;32m    115\u001b[0m \u001b[39m# sense in most places.\u001b[39;00m\n\u001b[1;32m    116\u001b[0m \u001b[39mif\u001b[39;00m cursor_position \u001b[39mis\u001b[39;00m \u001b[39mNone\u001b[39;00m:\n\u001b[0;32m--> 117\u001b[0m     cursor_position \u001b[39m=\u001b[39m \u001b[39mlen\u001b[39m(text)\n\u001b[1;32m    119\u001b[0m \u001b[39m# Keep these attributes private. A `Document` really has to be\u001b[39;00m\n\u001b[1;32m    120\u001b[0m \u001b[39m# considered to be immutable, because otherwise the caching will break\u001b[39;00m\n\u001b[1;32m    121\u001b[0m \u001b[39m# things. Because of that, we wrap these into read-only properties.\u001b[39;00m\n\u001b[1;32m    122\u001b[0m \u001b[39mself\u001b[39m\u001b[39m.\u001b[39m_text \u001b[39m=\u001b[39m text\n",
      "\u001b[0;31mTypeError\u001b[0m: object of type 'int' has no len()"
     ]
    }
   ],
   "source": [
    "form = questionary.form(\n",
    "    name=questionary.text(\"name?\", default=\"\"),\n",
    "    age=questionary.text(\"age?\", default=12),\n",
    "    dob=questionary.text(\"dob?\", default=\"2023-08-31\")\n",
    ")\n",
    "\n",
    "form.ask()"
   ]
  },
  {
   "cell_type": "code",
   "execution_count": 12,
   "metadata": {},
   "outputs": [
    {
     "data": {
      "text/plain": [
       "A(id=1, name=1, date=datetime.datetime(2023, 8, 31, 0, 0))"
      ]
     },
     "execution_count": 12,
     "metadata": {},
     "output_type": "execute_result"
    }
   ],
   "source": [
    "from dataclasses import dataclass\n",
    "from datetime import datetime\n",
    "\n",
    "@dataclass\n",
    "class A:\n",
    "    id: int\n",
    "    name: str\n",
    "    date: datetime\n",
    "\n",
    "a = A(id=1, name=\"hello\", date=datetime.fromisoformat(\"2023-08-31\"))\n",
    "a"
   ]
  },
  {
   "cell_type": "code",
   "execution_count": null,
   "metadata": {},
   "outputs": [],
   "source": []
  }
 ],
 "metadata": {
  "kernelspec": {
   "display_name": "venv",
   "language": "python",
   "name": "python3"
  },
  "language_info": {
   "codemirror_mode": {
    "name": "ipython",
    "version": 3
   },
   "file_extension": ".py",
   "mimetype": "text/x-python",
   "name": "python",
   "nbconvert_exporter": "python",
   "pygments_lexer": "ipython3",
   "version": "3.11.3"
  },
  "orig_nbformat": 4
 },
 "nbformat": 4,
 "nbformat_minor": 2
}
